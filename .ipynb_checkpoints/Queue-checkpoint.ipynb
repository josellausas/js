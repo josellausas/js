{
 "cells": [
  {
   "cell_type": "code",
   "execution_count": null,
   "metadata": {},
   "outputs": [],
   "source": [
    "function CreateQueue() {\n",
    "    const queue = []\n",
    "    \n",
    "    return {\n",
    "        enqueue(item) {\n",
    "            queue.push(item);\n",
    "        }\n",
    "    }\n",
    "}"
   ]
  }
 ],
 "metadata": {
  "kernelspec": {
   "display_name": "Javascript (Node.js)",
   "language": "javascript",
   "name": "javascript"
  },
  "language_info": {
   "file_extension": ".js",
   "mimetype": "application/javascript",
   "name": "javascript",
   "version": "11.4.0"
  }
 },
 "nbformat": 4,
 "nbformat_minor": 2
}
