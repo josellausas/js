{
 "cells": [
  {
   "cell_type": "code",
   "execution_count": 2,
   "metadata": {},
   "outputs": [
    {
     "name": "stdout",
     "output_type": "stream",
     "text": [
      "Welcome\n"
     ]
    }
   ],
   "source": [
    "// From : https://app.pluralsight.com/player?course=advanced-javascript&author=kyle-simpson&name=advanced-javascript-m1&clip=0&mode=live\n",
    "// YouDontKnowJS.com\n",
    "console.log(\"Welcome\")\n",
    "\n",
    "// High Performance JS\n",
    "// JavaScript Patterns\n",
    "// developer.mozilla.org/en-US/docs/JavaScript\n"
   ]
  },
  {
   "cell_type": "code",
   "execution_count": 15,
   "metadata": {},
   "outputs": [
    {
     "data": {
      "text/plain": [
       "'cartón'"
      ]
     },
     "execution_count": 15,
     "metadata": {},
     "output_type": "execute_result"
    }
   ],
   "source": [
    "let box = {};\n",
    "\n",
    "box.material = \"cartón\";\n",
    "let cb = box.material; // Assigment copies left\n",
    "box.material = \"Iguana\";\n",
    "// box.material\n",
    "cb\n"
   ]
  },
  {
   "cell_type": "code",
   "execution_count": 9,
   "metadata": {},
   "outputs": [
    {
     "data": {
      "text/plain": [
       "{ material: 'Iguana' }"
      ]
     },
     "execution_count": 9,
     "metadata": {},
     "output_type": "execute_result"
    }
   ],
   "source": [
    "box"
   ]
  },
  {
   "cell_type": "code",
   "execution_count": 18,
   "metadata": {},
   "outputs": [
    {
     "data": {
      "text/plain": [
       "'undefined'"
      ]
     },
     "execution_count": 18,
     "metadata": {},
     "output_type": "execute_result"
    }
   ],
   "source": [
    "typeof(box.size)"
   ]
  },
  {
   "cell_type": "code",
   "execution_count": 26,
   "metadata": {},
   "outputs": [
    {
     "name": "stdout",
     "output_type": "stream",
     "text": [
      "Uno\n",
      "Dos\n",
      "Tres\n",
      "Cuatro\n"
     ]
    }
   ],
   "source": [
    "// Looping arrays in javascript happens with keys!\n",
    "let listOfThings = [\n",
    "    \"Uno\",\n",
    "    \"Dos\",\n",
    "    \"Tres\",\n",
    "    \"Cuatro\",\n",
    "];\n",
    "\n",
    "for(let key in listOfThings){\n",
    "    console.log(listOfThings[key]);\n",
    "}"
   ]
  },
  {
   "cell_type": "code",
   "execution_count": null,
   "metadata": {},
   "outputs": [],
   "source": []
  }
 ],
 "metadata": {
  "kernelspec": {
   "display_name": "Javascript (Node.js)",
   "language": "javascript",
   "name": "javascript"
  },
  "language_info": {
   "file_extension": ".js",
   "mimetype": "application/javascript",
   "name": "javascript",
   "version": "11.4.0"
  }
 },
 "nbformat": 4,
 "nbformat_minor": 2
}
