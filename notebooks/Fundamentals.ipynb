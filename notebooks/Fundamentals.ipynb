{
 "cells": [
  {
   "cell_type": "markdown",
   "metadata": {},
   "source": [
    "# Basics"
   ]
  },
  {
   "cell_type": "code",
   "execution_count": 20,
   "metadata": {},
   "outputs": [],
   "source": [
    "// Define a print function p\n",
    "function p(...msg){\n",
    "    console.log(...msg);\n",
    "}"
   ]
  },
  {
   "cell_type": "code",
   "execution_count": 83,
   "metadata": {},
   "outputs": [
    {
     "name": "stdout",
     "output_type": "stream",
     "text": [
      "\u001b[33m8.399999999999999\u001b[39m\n"
     ]
    }
   ],
   "source": [
    "5.1 + 3.3 // Adding is weird in JS"
   ]
  },
  {
   "cell_type": "code",
   "execution_count": 21,
   "metadata": {},
   "outputs": [
    {
     "name": "stdout",
     "output_type": "stream",
     "text": [
      "Queso uno\n"
     ]
    }
   ],
   "source": [
    "p(\"Queso\", \"uno\");"
   ]
  },
  {
   "cell_type": "code",
   "execution_count": 34,
   "metadata": {},
   "outputs": [
    {
     "name": "stdout",
     "output_type": "stream",
     "text": [
      "\u001b[33m1\u001b[39m\n",
      "\u001b[33m2\u001b[39m\n",
      "\u001b[33m3\u001b[39m\n",
      "\u001b[33m999\u001b[39m\n",
      "\u001b[33m99999999\u001b[39m\n",
      "A\n",
      "Catorce\n",
      "Dos\n",
      "Tres\n",
      "Uno\n",
      "a\n",
      "dos\n"
     ]
    }
   ],
   "source": [
    "const foo = [1,2,3,\"Uno\", \"Dos\", \"Tres\", \"Catorce\", 999, 99999999, \"A\", \"a\", \"dos\"];\n",
    "foo.sort().forEach( x => p(x) )"
   ]
  },
  {
   "cell_type": "code",
   "execution_count": 43,
   "metadata": {},
   "outputs": [
    {
     "name": "stdout",
     "output_type": "stream",
     "text": [
      "object\n"
     ]
    }
   ],
   "source": [
    "class Chambacú {\n",
    "    name;\n",
    "    constructor(name){\n",
    "        this.name = name;\n",
    "    }\n",
    "}\n",
    "\n",
    "let x = new Chambacú(\"Chambacú\");\n",
    "typeof(x)"
   ]
  },
  {
   "cell_type": "code",
   "execution_count": 51,
   "metadata": {},
   "outputs": [
    {
     "name": "stdout",
     "output_type": "stream",
     "text": [
      "FedEx\n"
     ]
    }
   ],
   "source": [
    "let orderType = \"business\"; // Cannot use const here!\n",
    "let shipMethod;\n",
    "switch (orderType){\n",
    "    case \"business\":\n",
    "        shipMethod = 'FedEx';\n",
    "        break;\n",
    "    case \"personal\":\n",
    "        shipMethod = 'UPS';\n",
    "        break;\n",
    "    default:\n",
    "        shipMethod = 'USPS';\n",
    "}\n",
    "p(shipMethod);"
   ]
  },
  {
   "cell_type": "code",
   "execution_count": 54,
   "metadata": {},
   "outputs": [
    {
     "name": "stdout",
     "output_type": "stream",
     "text": [
      "Perfect\n"
     ]
    }
   ],
   "source": [
    "let temp = 22;\n",
    "let hotness;\n",
    "\n",
    "switch (true){\n",
    "    case temp <= 1:\n",
    "        hotness = \"Freezing\"\n",
    "        break;\n",
    "    case temp > 1 && temp < 10:\n",
    "        hotness = \"Cold\";\n",
    "        break;\n",
    "    case temp >=10 && temp < 22:\n",
    "        hotness = \"Chilly\";\n",
    "        break;\n",
    "    case temp >= 22 && temp < 25:\n",
    "        hotness = \"Perfect\";\n",
    "        break;\n",
    "    case temp >= 25 && temp < 30:\n",
    "        hotness = \"Hot\";\n",
    "        break;\n",
    "    case temp >= 30:\n",
    "        hotness = \"Very Hot\";\n",
    "        break;\n",
    "}\n",
    "\n",
    "p(hotness)\n"
   ]
  },
  {
   "cell_type": "code",
   "execution_count": 66,
   "metadata": {},
   "outputs": [
    {
     "name": "stdout",
     "output_type": "stream",
     "text": [
      "\u001b[33m1\u001b[39m\n",
      "\u001b[33m2\u001b[39m\n",
      "\u001b[33m3\u001b[39m\n"
     ]
    }
   ],
   "source": [
    "let count = 3;\n",
    "let current = 0;\n",
    "\n",
    "while(current < count){\n",
    "//     console.log(\"item: \", current);\n",
    "    console.log(current++);\n",
    "}"
   ]
  },
  {
   "cell_type": "markdown",
   "metadata": {},
   "source": [
    "# For-In loop"
   ]
  },
  {
   "cell_type": "code",
   "execution_count": 73,
   "metadata": {},
   "outputs": [
    {
     "name": "stdout",
     "output_type": "stream",
     "text": [
      "product\n",
      "quantity\n",
      "price\n"
     ]
    }
   ],
   "source": [
    "const someItem = {\n",
    "    product: 'Widget 1',\n",
    "    quantity: 4,\n",
    "    price: 9.50\n",
    "}\n",
    "\n",
    "for (var field in someItem){\n",
    "    p(field);\n",
    "}"
   ]
  },
  {
   "cell_type": "markdown",
   "metadata": {},
   "source": [
    "# Hoisting"
   ]
  },
  {
   "cell_type": "markdown",
   "metadata": {},
   "source": [
    "JavaScript engine performs a 2-pass compilation:\n",
    "\n",
    "1. All decalarations are located and identifiers are created\n",
    "2. Execute line by line"
   ]
  },
  {
   "cell_type": "code",
   "execution_count": 79,
   "metadata": {},
   "outputs": [
    {
     "name": "stderr",
     "output_type": "stream",
     "text": [
      "evalmachine.<anonymous>:4\n",
      "showProduct();\n",
      "^\n",
      "\n",
      "TypeError: showProduct is not a function\n",
      "    at evalmachine.<anonymous>:4:1\n",
      "    at evalmachine.<anonymous>:10:3\n",
      "\u001b[90m    at sigintHandlersWrap (vm.js:269:15)\u001b[39m\n",
      "\u001b[90m    at Script.runInContext (vm.js:124:14)\u001b[39m\n",
      "\u001b[90m    at Object.runInContext (vm.js:290:6)\u001b[39m\n",
      "    at Object.execute (/Users/pp/.config/yarn/global/node_modules/\u001b[4mtslab\u001b[24m/dist/executor.js:159:38)\n",
      "    at JupyterHandlerImpl.handleExecuteImpl (/Users/pp/.config/yarn/global/node_modules/\u001b[4mtslab\u001b[24m/dist/jupyter.js:206:38)\n",
      "    at /Users/pp/.config/yarn/global/node_modules/\u001b[4mtslab\u001b[24m/dist/jupyter.js:164:57\n",
      "    at async JupyterHandlerImpl.handleExecute (/Users/pp/.config/yarn/global/node_modules/\u001b[4mtslab\u001b[24m/dist/jupyter.js:164:21)\n",
      "    at async ZmqServer.handleExecute (/Users/pp/.config/yarn/global/node_modules/\u001b[4mtslab\u001b[24m/dist/jupyter.js:362:25)\n"
     ]
    }
   ],
   "source": [
    "// Variables get hoisted to undefined, until they are assinged. \n",
    "// Vars that are asigned to a function cannot be called until assigned, because undefined cannot be called\n",
    "// Anonymous function hosting can present issues:\n",
    "showProduct(); // is undefined!\n",
    "var showProduct = () => {\n",
    "    console.log(\"Showing product\");\n",
    "}\n"
   ]
  },
  {
   "cell_type": "code",
   "execution_count": 82,
   "metadata": {},
   "outputs": [
    {
     "name": "stdout",
     "output_type": "stream",
     "text": [
      "Showing product\n"
     ]
    }
   ],
   "source": [
    "// Named functions are hoisted properly\n",
    "showProductHoisted();\n",
    "function showProductHoisted() {\n",
    "    p(\"Showing product\")\n",
    "}"
   ]
  },
  {
   "cell_type": "markdown",
   "metadata": {},
   "source": [
    "# Numbers"
   ]
  },
  {
   "cell_type": "code",
   "execution_count": 84,
   "metadata": {},
   "outputs": [
    {
     "name": "stdout",
     "output_type": "stream",
     "text": [
      "string\n"
     ]
    }
   ],
   "source": [
    "let price = \"0.99\";\n",
    "typeof price"
   ]
  },
  {
   "cell_type": "code",
   "execution_count": 86,
   "metadata": {},
   "outputs": [
    {
     "name": "stdout",
     "output_type": "stream",
     "text": [
      "\u001b[33m4919\u001b[39m\n"
     ]
    }
   ],
   "source": [
    "0x1337 // Hexadecimal"
   ]
  },
  {
   "cell_type": "code",
   "execution_count": 94,
   "metadata": {},
   "outputs": [
    {
     "name": "stdout",
     "output_type": "stream",
     "text": [
      "\u001b[33m735\u001b[39m\n"
     ]
    }
   ],
   "source": [
    "0o1337 // Octal"
   ]
  },
  {
   "cell_type": "code",
   "execution_count": 95,
   "metadata": {},
   "outputs": [
    {
     "name": "stdout",
     "output_type": "stream",
     "text": [
      "\u001b[33m10\u001b[39m\n"
     ]
    }
   ],
   "source": [
    "0b1010 // Binary"
   ]
  },
  {
   "cell_type": "code",
   "execution_count": 104,
   "metadata": {},
   "outputs": [
    {
     "name": "stdout",
     "output_type": "stream",
     "text": [
      "\u001b[33m2551\u001b[39m\n"
     ]
    }
   ],
   "source": [
    "0b1010 * 0xFF + 1 // Mixed base arithmetic supported"
   ]
  },
  {
   "cell_type": "code",
   "execution_count": 103,
   "metadata": {},
   "outputs": [
    {
     "name": "stdout",
     "output_type": "stream",
     "text": [
      "\u001b[33m9600\u001b[39m\n"
     ]
    }
   ],
   "source": [
    "9.6e3 // Scientific notation"
   ]
  },
  {
   "cell_type": "code",
   "execution_count": 105,
   "metadata": {},
   "outputs": [
    {
     "name": "stdout",
     "output_type": "stream",
     "text": [
      "\u001b[33m1.7976931348623157e+308\u001b[39m\n"
     ]
    }
   ],
   "source": [
    "Number.MAX_VALUE // Largest number in JS"
   ]
  },
  {
   "cell_type": "code",
   "execution_count": 121,
   "metadata": {},
   "outputs": [
    {
     "name": "stdout",
     "output_type": "stream",
     "text": [
      "\u001b[33mInfinity\u001b[39m\n"
     ]
    }
   ],
   "source": [
    "Number.MAX_VALUE * 2"
   ]
  },
  {
   "cell_type": "code",
   "execution_count": 123,
   "metadata": {},
   "outputs": [
    {
     "name": "stdout",
     "output_type": "stream",
     "text": [
      "\u001b[33m5e-324\u001b[39m\n"
     ]
    }
   ],
   "source": [
    "Number.MIN_VALUE "
   ]
  },
  {
   "cell_type": "code",
   "execution_count": 124,
   "metadata": {},
   "outputs": [
    {
     "name": "stdout",
     "output_type": "stream",
     "text": [
      "number\n"
     ]
    }
   ],
   "source": [
    "typeof Infinity"
   ]
  },
  {
   "cell_type": "code",
   "execution_count": 128,
   "metadata": {},
   "outputs": [
    {
     "name": "stdout",
     "output_type": "stream",
     "text": [
      "\u001b[33m-Infinity\u001b[39m\n"
     ]
    }
   ],
   "source": [
    "p(Number.NEGATIVE_INFINITY)"
   ]
  },
  {
   "cell_type": "code",
   "execution_count": 129,
   "metadata": {},
   "outputs": [
    {
     "name": "stdout",
     "output_type": "stream",
     "text": [
      "number\n"
     ]
    }
   ],
   "source": [
    "typeof NaN"
   ]
  },
  {
   "cell_type": "code",
   "execution_count": 234,
   "metadata": {},
   "outputs": [
    {
     "name": "stdout",
     "output_type": "stream",
     "text": [
      "\u001b[33mtrue\u001b[39m\n"
     ]
    }
   ],
   "source": [
    "// Test for Nan\n",
    "let foo;\n",
    "isNaN(1/foo)"
   ]
  },
  {
   "cell_type": "code",
   "execution_count": 236,
   "metadata": {},
   "outputs": [
    {
     "name": "stdout",
     "output_type": "stream",
     "text": [
      "\u001b[33m8.399999999999999\u001b[39m\n"
     ]
    }
   ],
   "source": [
    "5.1 + 3.3 // Adding is weird in JS"
   ]
  },
  {
   "cell_type": "code",
   "execution_count": 239,
   "metadata": {},
   "outputs": [
    {
     "name": "stdout",
     "output_type": "stream",
     "text": [
      "8.40\n"
     ]
    }
   ],
   "source": [
    "(5.1 + 3.3).toFixed(2) // Need to adjust the number of decimals with toFixed()"
   ]
  },
  {
   "cell_type": "markdown",
   "metadata": {},
   "source": [
    "# Strings"
   ]
  },
  {
   "cell_type": "code",
   "execution_count": 143,
   "metadata": {},
   "outputs": [
    {
     "name": "stdout",
     "output_type": "stream",
     "text": [
      "H\n",
      "e\n",
      "l\n",
      "l\n",
      "o\n",
      " \n",
      "W\n",
      "o\n",
      "r\n",
      "l\n",
      "d\n",
      "\"\n"
     ]
    }
   ],
   "source": [
    "[ ... \"Hello World\\\"\"].forEach( x => console.log(x))\n"
   ]
  },
  {
   "cell_type": "code",
   "execution_count": 144,
   "metadata": {},
   "outputs": [
    {
     "name": "stdout",
     "output_type": "stream",
     "text": [
      "\u001b[33m11\u001b[39m\n"
     ]
    }
   ],
   "source": [
    "\"Hello World\".length"
   ]
  },
  {
   "cell_type": "code",
   "execution_count": 147,
   "metadata": {},
   "outputs": [
    {
     "name": "stdout",
     "output_type": "stream",
     "text": [
      "Hello World\n"
     ]
    }
   ],
   "source": [
    "\"    Hello World      \".trim()"
   ]
  },
  {
   "cell_type": "code",
   "execution_count": 148,
   "metadata": {},
   "outputs": [
    {
     "name": "stdout",
     "output_type": "stream",
     "text": [
      "HELLO WORLD\n"
     ]
    }
   ],
   "source": [
    "\"Hello World\".toUpperCase()"
   ]
  },
  {
   "cell_type": "code",
   "execution_count": 152,
   "metadata": {},
   "outputs": [
    {
     "name": "stdout",
     "output_type": "stream",
     "text": [
      "\u001b[33mtrue\u001b[39m\n"
     ]
    }
   ],
   "source": [
    "\"Hello World\".toUpperCase() < \"Hello World\".toLowerCase()"
   ]
  },
  {
   "cell_type": "code",
   "execution_count": 156,
   "metadata": {},
   "outputs": [
    {
     "name": "stdout",
     "output_type": "stream",
     "text": [
      "Yeah\n"
     ]
    }
   ],
   "source": [
    "\"eso\" > \"Queso\" ? \"Yeah\":\"Nay\""
   ]
  },
  {
   "cell_type": "markdown",
   "metadata": {},
   "source": [
    "# Booleans"
   ]
  },
  {
   "cell_type": "code",
   "execution_count": 158,
   "metadata": {},
   "outputs": [
    {
     "name": "stdout",
     "output_type": "stream",
     "text": [
      "\u001b[33mtrue\u001b[39m\n"
     ]
    }
   ],
   "source": [
    "Boolean(\"Hea\")"
   ]
  },
  {
   "cell_type": "code",
   "execution_count": 159,
   "metadata": {},
   "outputs": [
    {
     "name": "stdout",
     "output_type": "stream",
     "text": [
      "\u001b[33mfalse\u001b[39m\n"
     ]
    }
   ],
   "source": [
    "Boolean(\"\")"
   ]
  },
  {
   "cell_type": "code",
   "execution_count": 162,
   "metadata": {},
   "outputs": [
    {
     "name": "stdout",
     "output_type": "stream",
     "text": [
      "\u001b[33mfalse\u001b[39m\n"
     ]
    }
   ],
   "source": [
    "Boolean(\" \")"
   ]
  },
  {
   "cell_type": "code",
   "execution_count": 160,
   "metadata": {},
   "outputs": [
    {
     "name": "stdout",
     "output_type": "stream",
     "text": [
      "\u001b[33mfalse\u001b[39m\n"
     ]
    }
   ],
   "source": [
    "Boolean(0)"
   ]
  },
  {
   "cell_type": "code",
   "execution_count": 163,
   "metadata": {},
   "outputs": [
    {
     "name": "stdout",
     "output_type": "stream",
     "text": [
      "\u001b[33mfalse\u001b[39m\n"
     ]
    }
   ],
   "source": [
    "Boolean(undefined)"
   ]
  },
  {
   "cell_type": "code",
   "execution_count": 164,
   "metadata": {},
   "outputs": [
    {
     "name": "stdout",
     "output_type": "stream",
     "text": [
      "\u001b[33mfalse\u001b[39m\n"
     ]
    }
   ],
   "source": [
    "let foo;\n",
    "Boolean(foo)"
   ]
  },
  {
   "cell_type": "code",
   "execution_count": 165,
   "metadata": {},
   "outputs": [
    {
     "name": "stdout",
     "output_type": "stream",
     "text": [
      "\u001b[33mfalse\u001b[39m\n"
     ]
    }
   ],
   "source": [
    "Boolean(null)"
   ]
  },
  {
   "cell_type": "code",
   "execution_count": 168,
   "metadata": {},
   "outputs": [
    {
     "name": "stdout",
     "output_type": "stream",
     "text": [
      "\u001b[33mtrue\u001b[39m\n"
     ]
    }
   ],
   "source": [
    "!!'Create a bool out of anything'"
   ]
  },
  {
   "cell_type": "code",
   "execution_count": 176,
   "metadata": {},
   "outputs": [
    {
     "name": "stdout",
     "output_type": "stream",
     "text": [
      "\u001b[33mtrue\u001b[39m\n"
     ]
    }
   ],
   "source": [
    "!!(function(){return false})"
   ]
  },
  {
   "cell_type": "code",
   "execution_count": 178,
   "metadata": {},
   "outputs": [
    {
     "name": "stdout",
     "output_type": "stream",
     "text": [
      "object\n"
     ]
    }
   ],
   "source": [
    "let product = null // be implicit by setting to null\n",
    "typeof product"
   ]
  },
  {
   "cell_type": "code",
   "execution_count": 179,
   "metadata": {},
   "outputs": [
    {
     "name": "stdout",
     "output_type": "stream",
     "text": [
      "\u001b[33mtrue\u001b[39m\n"
     ]
    }
   ],
   "source": [
    "undefined == null"
   ]
  },
  {
   "cell_type": "code",
   "execution_count": 180,
   "metadata": {},
   "outputs": [
    {
     "name": "stdout",
     "output_type": "stream",
     "text": [
      "\u001b[33mfalse\u001b[39m\n"
     ]
    }
   ],
   "source": [
    "undefined === null"
   ]
  },
  {
   "cell_type": "markdown",
   "metadata": {},
   "source": [
    "# Scope\n",
    "\n",
    "Global Scope"
   ]
  },
  {
   "cell_type": "code",
   "execution_count": 188,
   "metadata": {},
   "outputs": [
    {
     "name": "stdout",
     "output_type": "stream",
     "text": [
      "Object [global] {\n",
      "  global: \u001b[36m[Circular]\u001b[39m,\n",
      "  clearInterval: \u001b[36m[Function: clearInterval]\u001b[39m,\n",
      "  clearTimeout: \u001b[36m[Function: clearTimeout]\u001b[39m,\n",
      "  setInterval: \u001b[36m[Function: setInterval]\u001b[39m,\n",
      "  setTimeout: [Function: setTimeout] { [\u001b[32mSymbol(util.promisify.custom)\u001b[39m]: \u001b[36m[Function]\u001b[39m },\n",
      "  queueMicrotask: \u001b[36m[Function: queueMicrotask]\u001b[39m,\n",
      "  clearImmediate: \u001b[36m[Function: clearImmediate]\u001b[39m,\n",
      "  setImmediate: [Function: setImmediate] {\n",
      "    [\u001b[32mSymbol(util.promisify.custom)\u001b[39m]: \u001b[36m[Function]\u001b[39m\n",
      "  }\n",
      "}\n"
     ]
    }
   ],
   "source": [
    "global"
   ]
  },
  {
   "cell_type": "code",
   "execution_count": 190,
   "metadata": {},
   "outputs": [],
   "source": [
    "var foo = 1;"
   ]
  },
  {
   "cell_type": "markdown",
   "metadata": {},
   "source": [
    "# References"
   ]
  },
  {
   "cell_type": "code",
   "execution_count": 191,
   "metadata": {},
   "outputs": [
    {
     "name": "stdout",
     "output_type": "stream",
     "text": [
      "number\n"
     ]
    }
   ],
   "source": [
    "// value types (primitives)\n",
    "typeof 2"
   ]
  },
  {
   "cell_type": "code",
   "execution_count": 192,
   "metadata": {},
   "outputs": [
    {
     "name": "stdout",
     "output_type": "stream",
     "text": [
      "string\n"
     ]
    }
   ],
   "source": [
    "typeof \"\""
   ]
  },
  {
   "cell_type": "code",
   "execution_count": 194,
   "metadata": {},
   "outputs": [
    {
     "name": "stdout",
     "output_type": "stream",
     "text": [
      "boolean\n"
     ]
    }
   ],
   "source": [
    "typeof true"
   ]
  },
  {
   "cell_type": "code",
   "execution_count": 199,
   "metadata": {},
   "outputs": [
    {
     "name": "stdout",
     "output_type": "stream",
     "text": [
      "symbol\n"
     ]
    }
   ],
   "source": [
    "typeof Symbol(\"i\")"
   ]
  },
  {
   "cell_type": "code",
   "execution_count": 200,
   "metadata": {},
   "outputs": [
    {
     "name": "stdout",
     "output_type": "stream",
     "text": [
      "undefined\n"
     ]
    }
   ],
   "source": [
    "typeof undefined"
   ]
  },
  {
   "cell_type": "code",
   "execution_count": 209,
   "metadata": {},
   "outputs": [
    {
     "name": "stdout",
     "output_type": "stream",
     "text": [
      "Null\n"
     ]
    }
   ],
   "source": [
    "\"Null\""
   ]
  },
  {
   "cell_type": "code",
   "execution_count": 210,
   "metadata": {},
   "outputs": [
    {
     "name": "stdout",
     "output_type": "stream",
     "text": [
      "\u001b[33m10\u001b[39m\n"
     ]
    }
   ],
   "source": [
    "// Reference types:\n",
    "let obj = {};\n",
    "let arr = [];\n",
    "let func = function() {};\n",
    "\n",
    "let x = 10; // Primitives are copied\n",
    "let y = x; // Stores its own copy of x. Changin x will do nothing to y\n",
    "\n",
    "x = 20;\n",
    "console.log(y);"
   ]
  },
  {
   "cell_type": "code",
   "execution_count": 219,
   "metadata": {},
   "outputs": [
    {
     "name": "stdout",
     "output_type": "stream",
     "text": [
      "y value: 10\n",
      "z value: { value: \u001b[33m20\u001b[39m }\n"
     ]
    }
   ],
   "source": [
    "let x = { value: 10 };\n",
    "let y = x.value; // Assign a primitive (copies by value)\n",
    "let z = x; // Assign a reference (copies by reference)\n",
    "\n",
    "x.value = 20;\n",
    "\n",
    "console.log(`y value: ${y}`);\n",
    "console.log(`z value:`, z);\n"
   ]
  },
  {
   "cell_type": "code",
   "execution_count": 233,
   "metadata": {},
   "outputs": [
    {
     "name": "stdout",
     "output_type": "stream",
     "text": [
      "\u001b[33m12\u001b[39m\n"
     ]
    }
   ],
   "source": [
    "let num = 10;\n",
    "\n",
    "// Generator function\n",
    "const multiplier = (num) => {\n",
    "    return (x) => {\n",
    "        return num * x;\n",
    "    }\n",
    "}\n",
    "\n",
    "const mul3 = multiplier(3);\n",
    "const mul4 = multiplier(4);\n",
    "\n",
    "mul3(3);\n",
    "mul4(3);"
   ]
  },
  {
   "cell_type": "code",
   "execution_count": 241,
   "metadata": {},
   "outputs": [
    {
     "name": "stdout",
     "output_type": "stream",
     "text": [
      "Web-bot-2000\n"
     ]
    }
   ],
   "source": [
    "\"Web-\"+\"bot-\"+2000 // Converts to strings as soon as one is seen with + operator"
   ]
  },
  {
   "cell_type": "code",
   "execution_count": 242,
   "metadata": {},
   "outputs": [
    {
     "name": "stdout",
     "output_type": "stream",
     "text": [
      "200bot500\n"
     ]
    }
   ],
   "source": [
    "200 + \"bot\" + 500"
   ]
  },
  {
   "cell_type": "code",
   "execution_count": 243,
   "metadata": {},
   "outputs": [
    {
     "name": "stdout",
     "output_type": "stream",
     "text": [
      "200200200\n"
     ]
    }
   ],
   "source": [
    "200+\"200\"+200"
   ]
  },
  {
   "cell_type": "code",
   "execution_count": 245,
   "metadata": {},
   "outputs": [
    {
     "name": "stdout",
     "output_type": "stream",
     "text": [
      "\u001b[33mNaN\u001b[39m\n"
     ]
    }
   ],
   "source": [
    "let queso;\n",
    "200 + queso;"
   ]
  },
  {
   "cell_type": "code",
   "execution_count": 246,
   "metadata": {},
   "outputs": [
    {
     "name": "stdout",
     "output_type": "stream",
     "text": [
      "quesoundefined\n"
     ]
    }
   ],
   "source": [
    "\"queso\" + queso"
   ]
  },
  {
   "cell_type": "code",
   "execution_count": 248,
   "metadata": {},
   "outputs": [
    {
     "name": "stdout",
     "output_type": "stream",
     "text": [
      "2000null\n"
     ]
    }
   ],
   "source": [
    "\"2000\" + null"
   ]
  },
  {
   "cell_type": "code",
   "execution_count": 249,
   "metadata": {},
   "outputs": [
    {
     "name": "stdout",
     "output_type": "stream",
     "text": [
      "\u001b[33mNaN\u001b[39m\n"
     ]
    }
   ],
   "source": [
    "200 + NaN"
   ]
  },
  {
   "cell_type": "code",
   "execution_count": 250,
   "metadata": {},
   "outputs": [
    {
     "name": "stdout",
     "output_type": "stream",
     "text": [
      "FooNaN\n"
     ]
    }
   ],
   "source": [
    "\"Foo\" + NaN"
   ]
  },
  {
   "cell_type": "code",
   "execution_count": 259,
   "metadata": {},
   "outputs": [
    {
     "name": "stdout",
     "output_type": "stream",
     "text": [
      "\u001b[33m60\u001b[39m\n"
     ]
    }
   ],
   "source": [
    "Math.abs(30-90)"
   ]
  },
  {
   "cell_type": "code",
   "execution_count": 264,
   "metadata": {},
   "outputs": [
    {
     "name": "stdout",
     "output_type": "stream",
     "text": [
      "3.33\n"
     ]
    }
   ],
   "source": [
    "(10/3).toFixed(2)"
   ]
  },
  {
   "cell_type": "code",
   "execution_count": 277,
   "metadata": {},
   "outputs": [
    {
     "name": "stdout",
     "output_type": "stream",
     "text": [
      "300\n"
     ]
    }
   ],
   "source": [
    "// Operator overloading with Objects\n",
    "300 + \"\""
   ]
  },
  {
   "cell_type": "code",
   "execution_count": null,
   "metadata": {},
   "outputs": [],
   "source": []
  }
 ],
 "metadata": {
  "kernelspec": {
   "display_name": "TypeScript",
   "language": "typescript",
   "name": "tslab"
  },
  "language_info": {
   "codemirror_mode": {
    "mode": "typescript",
    "name": "javascript",
    "typescript": true
   },
   "file_extension": ".ts",
   "mimetype": "text/typescript",
   "name": "typescript",
   "version": "3.7.2"
  }
 },
 "nbformat": 4,
 "nbformat_minor": 2
}
