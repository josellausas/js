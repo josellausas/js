{
 "cells": [
  {
   "cell_type": "code",
   "execution_count": 10,
   "metadata": {},
   "outputs": [
    {
     "name": "stdout",
     "output_type": "stream",
     "text": [
      "Hello World!\n"
     ]
    }
   ],
   "source": [
    "console.log(\"Hello World!\");"
   ]
  },
  {
   "cell_type": "code",
   "execution_count": 11,
   "metadata": {},
   "outputs": [
    {
     "name": "stdout",
     "output_type": "stream",
     "text": [
      "Hello World!!!\n"
     ]
    }
   ],
   "source": [
    "let x = \"World\"\n",
    "console.log(`Hello ${x}!!!`);"
   ]
  },
  {
   "cell_type": "code",
   "execution_count": 12,
   "metadata": {},
   "outputs": [
    {
     "name": "stdout",
     "output_type": "stream",
     "text": [
      "!!!\n"
     ]
    }
   ],
   "source": [
    "let [,,thisOne] = [\"Hello\", \"World\", \"!!!\"];\n",
    "console.log(thisOne);"
   ]
  },
  {
   "cell_type": "code",
   "execution_count": 13,
   "metadata": {},
   "outputs": [
    {
     "name": "stdout",
     "output_type": "stream",
     "text": [
      "Hola\n"
     ]
    }
   ],
   "source": [
    "function getObject() {\n",
    "    return {\n",
    "        first: \"Hola\",\n",
    "        second: \"Queso\",\n",
    "        third: \"Gonzales\"\n",
    "    };\n",
    "}\n",
    "\n",
    "// Renaming a descrturuded member of an object\n",
    "let { first: comienzo } = getObject();\n",
    "console.log(comienzo);"
   ]
  },
  {
   "cell_type": "code",
   "execution_count": 14,
   "metadata": {},
   "outputs": [
    {
     "name": "stdout",
     "output_type": "stream",
     "text": [
      "[ 1, 2, 3, 4, 5, 6, 7, 8, 9 ]\n",
      "[ 1, 2, 3, 4, 5, 6, 7, 8, 9, [ 4, 5, 6 ], [ 7, 8, 9 ] ]\n"
     ]
    }
   ],
   "source": [
    "let oneArray = [1,2,3];\n",
    "let twoArray = [4,5,6];\n",
    "let threeArray = [7,8,9];\n",
    "\n",
    "oneArray.push(...twoArray, ...threeArray);\n",
    "console.log(oneArray);\n",
    "\n",
    "// vs \n",
    "\n",
    "oneArray.push(twoArray, threeArray);\n",
    "console.log(oneArray);"
   ]
  },
  {
   "cell_type": "code",
   "execution_count": null,
   "metadata": {},
   "outputs": [],
   "source": []
  },
  {
   "cell_type": "code",
   "execution_count": null,
   "metadata": {},
   "outputs": [],
   "source": []
  }
 ],
 "metadata": {
  "kernelspec": {
   "display_name": "Javascript (Node.js)",
   "language": "javascript",
   "name": "javascript"
  },
  "language_info": {
   "file_extension": ".js",
   "mimetype": "application/javascript",
   "name": "javascript",
   "version": "11.4.0"
  }
 },
 "nbformat": 4,
 "nbformat_minor": 2
}
