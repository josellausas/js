{
 "cells": [
  {
   "cell_type": "code",
   "execution_count": 28,
   "metadata": {},
   "outputs": [
    {
     "name": "stdout",
     "output_type": "stream",
     "text": [
      "42\n",
      "string\n",
      "42\n",
      "number\n"
     ]
    }
   ],
   "source": [
    "// Notes\n",
    "let a = \"42\";\n",
    "let b = Number(a);\n",
    "let c  = String(b);\n",
    "console.log(a)\n",
    "console.log(typeof(a));\n",
    "console.log(b)\n",
    "console.log(typeof(b));"
   ]
  },
  {
   "cell_type": "code",
   "execution_count": 29,
   "metadata": {},
   "outputs": [
    {
     "name": "stdout",
     "output_type": "stream",
     "text": [
      "215.86\n"
     ]
    }
   ],
   "source": [
    "// Round a decimal\n",
    "let amount = 215.85754;\n",
    "console.log(amount.toFixed(2));"
   ]
  },
  {
   "cell_type": "code",
   "execution_count": 30,
   "metadata": {},
   "outputs": [
    {
     "name": "stdout",
     "output_type": "stream",
     "text": [
      "My name is Dog\n"
     ]
    }
   ],
   "source": [
    "// A Constructor is a funciton that returns an object\n",
    "function MakeAnimal(animalName){\n",
    "    return {\n",
    "        speak: function () {\n",
    "            console.log(\"My name is\", animalName);\n",
    "        }\n",
    "    }\n",
    "}\n",
    "\n",
    "let myAnimal = MakeAnimal(\"Dog\");\n",
    "myAnimal.speak();"
   ]
  },
  {
   "cell_type": "code",
   "execution_count": 31,
   "metadata": {},
   "outputs": [],
   "source": [
    "var animalNames = ['Sheep', 'Liger', 'Big Bird']\n",
    "\n",
    "let farm = [];\n",
    "let stored = animalNames.forEach( (animal) => farm.push(MakeAnimal(animal)));\n"
   ]
  },
  {
   "cell_type": "code",
   "execution_count": 33,
   "metadata": {},
   "outputs": [
    {
     "name": "stdout",
     "output_type": "stream",
     "text": [
      "My name is Sheep\n",
      "My name is Liger\n",
      "My name is Big Bird\n"
     ]
    }
   ],
   "source": [
    "farm.forEach((animal) => {\n",
    "    animal.speak();\n",
    "})"
   ]
  },
  {
   "cell_type": "code",
   "execution_count": null,
   "metadata": {},
   "outputs": [],
   "source": [
    "// Scope\n",
    "// Everytime we call a function we create a new scope\n",
    "let a = function() {\n",
    "    // this follows variable hoisting rules\n",
    "}\n",
    "\n",
    "\n",
    "// This hoists to the top\n",
    "let a = 0;\n",
    "function scope0() {\n",
    "    a = 1;\n",
    "    function scope1() {\n",
    "        a = 2;\n",
    "        function scope3() {\n",
    "            a = 3;\n",
    "        }\n",
    "    }\n",
    "    function scope4() {\n",
    "        a = 4;\n",
    "        function scope5() {\n",
    "            a = 5;\n",
    "            function scope6() {\n",
    "                a = 6;\n",
    "                function scope7() {\n",
    "                    \n",
    "                }\n",
    "            }\n",
    "        }\n",
    "    }\n",
    "}\n",
    "\n",
    "// All global objects are located inside `window` variable"
   ]
  },
  {
   "cell_type": "code",
   "execution_count": 44,
   "metadata": {},
   "outputs": [],
   "source": [
    "// Precedence\n",
    "// Privacy can only happen inside functions\n",
    "// Let works with block scope, var has only scope for functions\n",
    "let inBlock = false;\n",
    "\n",
    "for(var i =0; i < 5; i++) {\n",
    "    let inBlock = true;\n",
    "};\n",
    "\n",
    "if(inBlock){\n",
    "    console.log(\"True\");\n",
    "}\n",
    "\n",
    "var someBlock = false;\n",
    "for(var i =0; i < 5; i++) {\n",
    "    var someBlock = true;\n",
    "}\n",
    "if(someBlock){\n",
    "    console.log(\"This does indeed work, no block scope\")\n",
    "}"
   ]
  },
  {
   "cell_type": "code",
   "execution_count": null,
   "metadata": {},
   "outputs": [],
   "source": [
    "// Closure\n",
    "// When a function returns a function and retains the scope of the vars\n",
    "\n",
    "// setTimeout(alerter, 1000); is non-blocking\n"
   ]
  }
 ],
 "metadata": {
  "kernelspec": {
   "display_name": "Javascript (Node.js)",
   "language": "javascript",
   "name": "javascript"
  },
  "language_info": {
   "file_extension": ".js",
   "mimetype": "application/javascript",
   "name": "javascript",
   "version": "11.4.0"
  }
 },
 "nbformat": 4,
 "nbformat_minor": 2
}
